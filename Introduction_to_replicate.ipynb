{
  "nbformat": 4,
  "nbformat_minor": 0,
  "metadata": {
    "colab": {
      "provenance": [],
      "toc_visible": true,
      "gpuType": "T4",
      "authorship_tag": "ABX9TyOJJNQ+B92bqWtr23abrtxO",
      "include_colab_link": true
    },
    "kernelspec": {
      "name": "python3",
      "display_name": "Python 3"
    },
    "language_info": {
      "name": "python"
    },
    "accelerator": "GPU"
  },
  "cells": [
    {
      "cell_type": "markdown",
      "metadata": {
        "id": "view-in-github",
        "colab_type": "text"
      },
      "source": [
        "<a href=\"https://colab.research.google.com/github/rohitrmd/replicate-introduction/blob/main/Introduction_to_replicate.ipynb\" target=\"_parent\"><img src=\"https://colab.research.google.com/assets/colab-badge.svg\" alt=\"Open In Colab\"/></a>"
      ]
    },
    {
      "cell_type": "markdown",
      "source": [
        "### Introduction to [replicate](https://replicate.com/)\n",
        "\n",
        "While looking at different platforms to run stable diffusion models, I came across [replicate](https://replicate.com/).  While stability.ai does provide you API to do inference against stable diffusion models, replicate allows you to  run your own custom models along with open source models. Also it has much bigger community of  [open source models](https://replicate.com/explore).\n",
        "\n",
        "In this tutorial we will look at how we can run simple image, audio and video generation models using replicate.  ![Screenshot 2024-01-28 at 11.18.08 AM.png])"
      ],
      "metadata": {
        "id": "8_zE-v0rfkyF"
      }
    },
    {
      "cell_type": "markdown",
      "source": [
        "### Setup\n",
        "\n",
        "1.   First you need to go to https://replicate.com/ and sign in using your github account.\n",
        "2.   Then create your API token on [tokens page](https://replicate.com/account/api-tokens).\n",
        "3.   Copy this token to secrets section with key as REPLICATE_API_TOKEN and value as token's value\n",
        "4.   Setup this token value as environment variable as showed below\n",
        "\n",
        "\n",
        "\n"
      ],
      "metadata": {
        "id": "LZ8kwy7ef9ge"
      }
    },
    {
      "cell_type": "code",
      "source": [
        "import os\n",
        "from google.colab import userdata\n",
        "api_token = userdata.get('REPLICATE_API_TOKEN')\n",
        "os.environ[\"REPLICATE_API_TOKEN\"] = api_token"
      ],
      "metadata": {
        "id": "Wre6MRLy2MYD"
      },
      "execution_count": 1,
      "outputs": []
    },
    {
      "cell_type": "markdown",
      "source": [
        "### Installation\n",
        "We need to install replicate python API client to access their environment and also have access to their abstraction over ML models."
      ],
      "metadata": {
        "id": "NTFFeWx_irGu"
      }
    },
    {
      "cell_type": "code",
      "source": [
        "!pip install replicate"
      ],
      "metadata": {
        "colab": {
          "base_uri": "https://localhost:8080/"
        },
        "id": "GWZNQ3V9jI1Q",
        "outputId": "e994b54b-5515-4602-96f0-e9ee471f5174"
      },
      "execution_count": 2,
      "outputs": [
        {
          "output_type": "stream",
          "name": "stdout",
          "text": [
            "Collecting replicate\n",
            "  Downloading replicate-0.23.1-py3-none-any.whl (36 kB)\n",
            "Collecting httpx<1,>=0.21.0 (from replicate)\n",
            "  Downloading httpx-0.26.0-py3-none-any.whl (75 kB)\n",
            "\u001b[2K     \u001b[90m━━━━━━━━━━━━━━━━━━━━━━━━━━━━━━━━━━━━━━━━\u001b[0m \u001b[32m75.9/75.9 kB\u001b[0m \u001b[31m1.6 MB/s\u001b[0m eta \u001b[36m0:00:00\u001b[0m\n",
            "\u001b[?25hRequirement already satisfied: packaging in /usr/local/lib/python3.10/dist-packages (from replicate) (23.2)\n",
            "Requirement already satisfied: pydantic>1 in /usr/local/lib/python3.10/dist-packages (from replicate) (1.10.14)\n",
            "Requirement already satisfied: typing-extensions>=4.5.0 in /usr/local/lib/python3.10/dist-packages (from replicate) (4.5.0)\n",
            "Requirement already satisfied: anyio in /usr/local/lib/python3.10/dist-packages (from httpx<1,>=0.21.0->replicate) (3.7.1)\n",
            "Requirement already satisfied: certifi in /usr/local/lib/python3.10/dist-packages (from httpx<1,>=0.21.0->replicate) (2023.11.17)\n",
            "Collecting httpcore==1.* (from httpx<1,>=0.21.0->replicate)\n",
            "  Downloading httpcore-1.0.2-py3-none-any.whl (76 kB)\n",
            "\u001b[2K     \u001b[90m━━━━━━━━━━━━━━━━━━━━━━━━━━━━━━━━━━━━━━━━\u001b[0m \u001b[32m76.9/76.9 kB\u001b[0m \u001b[31m5.2 MB/s\u001b[0m eta \u001b[36m0:00:00\u001b[0m\n",
            "\u001b[?25hRequirement already satisfied: idna in /usr/local/lib/python3.10/dist-packages (from httpx<1,>=0.21.0->replicate) (3.6)\n",
            "Requirement already satisfied: sniffio in /usr/local/lib/python3.10/dist-packages (from httpx<1,>=0.21.0->replicate) (1.3.0)\n",
            "Collecting h11<0.15,>=0.13 (from httpcore==1.*->httpx<1,>=0.21.0->replicate)\n",
            "  Downloading h11-0.14.0-py3-none-any.whl (58 kB)\n",
            "\u001b[2K     \u001b[90m━━━━━━━━━━━━━━━━━━━━━━━━━━━━━━━━━━━━━━━━\u001b[0m \u001b[32m58.3/58.3 kB\u001b[0m \u001b[31m6.0 MB/s\u001b[0m eta \u001b[36m0:00:00\u001b[0m\n",
            "\u001b[?25hRequirement already satisfied: exceptiongroup in /usr/local/lib/python3.10/dist-packages (from anyio->httpx<1,>=0.21.0->replicate) (1.2.0)\n",
            "Installing collected packages: h11, httpcore, httpx, replicate\n",
            "Successfully installed h11-0.14.0 httpcore-1.0.2 httpx-0.26.0 replicate-0.23.1\n"
          ]
        }
      ]
    },
    {
      "cell_type": "markdown",
      "source": [
        "### Run the model\n",
        "Let's run stable diffusion SDXL model for image generation. We use replicate.run method to provide prompt to the model."
      ],
      "metadata": {
        "id": "9tUxsdkDpYFI"
      }
    },
    {
      "cell_type": "code",
      "source": [
        "import replicate\n",
        "\n",
        "output = replicate.run(\n",
        "  \"stability-ai/sdxl:39ed52f2a78e934b3ba6e2a89f5b1c712de7dfea535525255b1aa35c5565e08b\",\n",
        "  input={\"prompt\": \"a sunset on the beach\"}\n",
        ")\n",
        "\n",
        "from IPython.display import Image\n",
        "Image(url=output[0])"
      ],
      "metadata": {
        "colab": {
          "base_uri": "https://localhost:8080/",
          "height": 1000
        },
        "id": "aS2r4C6pprbQ",
        "outputId": "b05e300b-fc57-4e2d-ccfa-a344b01cb87d"
      },
      "execution_count": 3,
      "outputs": [
        {
          "output_type": "execute_result",
          "data": {
            "text/html": [
              "<img src=\"https://replicate.delivery/pbxt/7hqS5y6xN44sHBhxLvsV8NqWtSHStnFZBo7KxLiJ13i96RkE/out-0.png\"/>"
            ],
            "text/plain": [
              "<IPython.core.display.Image object>"
            ]
          },
          "metadata": {},
          "execution_count": 3
        }
      ]
    },
    {
      "cell_type": "markdown",
      "source": [
        "### Running SDXL video generation model\n",
        "Ever since stability ai released stable video diffusion, I wanted to try that out. replicate makes it extremely easy to run this model and results are spectacular. Keep in mind this model is not ready yet for commercial use."
      ],
      "metadata": {
        "id": "QrMZH1_wAfLv"
      }
    },
    {
      "cell_type": "code",
      "source": [
        "from urllib.request import urlretrieve\n",
        "\n",
        "model = replicate.models.get(\"stability-ai/stable-video-diffusion\")\n",
        "version = model.versions.get(\"3f0457e4619daac51203dedb472816fd4af51f3149fa7a9e0b5ffcf1b8172438\")\n",
        "\n",
        "prediction = replicate.predictions.create(\n",
        "    version=version,\n",
        "    input={\n",
        "      \"cond_aug\": 0.02,\n",
        "      \"decoding_t\": 7,\n",
        "      \"input_image\": \"https://raw.githubusercontent.com/rohitrmd/replicate-introduction/main/astronaut.jpg\",\n",
        "      \"video_length\": \"14_frames_with_svd\",\n",
        "      \"sizing_strategy\": \"maintain_aspect_ratio\",\n",
        "      \"motion_bucket_id\": 127,\n",
        "      \"frames_per_second\": 6\n",
        "    })\n",
        "prediction.wait()\n",
        "\n"
      ],
      "metadata": {
        "id": "9p6b_svfBapL"
      },
      "execution_count": 33,
      "outputs": []
    },
    {
      "cell_type": "markdown",
      "source": [
        "### Tracking prediction status\n",
        "As image/audio/video generation models take long time to generate output, replicate provides easy way to track progress of the inference. Status can have values as `started`, `processing`, `succeeded` or `failed`. Let's verify status of our prediction."
      ],
      "metadata": {
        "id": "_vzZcmwSNVmU"
      }
    },
    {
      "cell_type": "code",
      "source": [
        "prediction.status"
      ],
      "metadata": {
        "colab": {
          "base_uri": "https://localhost:8080/",
          "height": 35
        },
        "id": "sfFaemRtGCqU",
        "outputId": "47a34393-39f0-481c-9b2c-c8d4b0b04c8c"
      },
      "execution_count": 34,
      "outputs": [
        {
          "output_type": "execute_result",
          "data": {
            "text/plain": [
              "'succeeded'"
            ],
            "application/vnd.google.colaboratory.intrinsic+json": {
              "type": "string"
            }
          },
          "metadata": {},
          "execution_count": 34
        }
      ]
    },
    {
      "cell_type": "markdown",
      "source": [
        "### View the video output"
      ],
      "metadata": {
        "id": "JeEyUVysOeW7"
      }
    },
    {
      "cell_type": "code",
      "source": [
        "urlretrieve(prediction.output, \"/tmp/out.mp4\")\n",
        "from IPython.display import Video\n",
        "\n",
        "Video(prediction.output)"
      ],
      "metadata": {
        "colab": {
          "base_uri": "https://localhost:8080/",
          "height": 597
        },
        "id": "PU4u2tZiHprY",
        "outputId": "46e2ac03-0b93-493e-94d8-b501b3b542a2"
      },
      "execution_count": 35,
      "outputs": [
        {
          "output_type": "execute_result",
          "data": {
            "text/plain": [
              "<IPython.core.display.Video object>"
            ],
            "text/html": [
              "<video src=\"https://replicate.delivery/pbxt/Rg7LUMfAvetfHp6zUYjvehryi4NZZ4opEWHeTPpsxU7TSEJSC/000015.mp4\" controls  >\n",
              "      Your browser does not support the <code>video</code> element.\n",
              "    </video>"
            ]
          },
          "metadata": {},
          "execution_count": 35
        }
      ]
    }
  ]
}